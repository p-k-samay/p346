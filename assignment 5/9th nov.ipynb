{
 "cells": [
  {
   "cell_type": "code",
   "execution_count": 19,
   "metadata": {},
   "outputs": [
    {
     "ename": "SyntaxError",
     "evalue": "'return' outside function (537638391.py, line 19)",
     "output_type": "error",
     "traceback": [
      "\u001b[1;36m  Cell \u001b[1;32mIn [19], line 19\u001b[1;36m\u001b[0m\n\u001b[1;33m    return V0\u001b[0m\n\u001b[1;37m    ^\u001b[0m\n\u001b[1;31mSyntaxError\u001b[0m\u001b[1;31m:\u001b[0m 'return' outside function\n"
     ]
    }
   ],
   "source": [
    "import math\n",
    "import matplotlib as plt\n",
    "Lx = 2\n",
    "Nx = 20\n",
    "Lt = 4\n",
    "Nt = 5000\n",
    "\n",
    "hx = Lx/Nx\n",
    "ht = Lt/Nt\n",
    "alpha = ht/(hx**2)\n",
    "V0 = [0 for i in range(Nx+1)]\n",
    "V1 = [0 for i in range(Nx+1)]\n",
    "i_list = []\n",
    "if alpha < 0.5:\n",
    "    for i in range(Nx+1):\n",
    "        V0[i] = 20*(abs(math.sin(math.pi*hx*i)))\n",
    "        print(V0[i])\n",
    "        i_list.append(i)\n",
    "    return V0\n",
    "plt.scatter(i_list,V0)\n",
    "\n",
    "plt.show\n",
    "\n",
    "\n"
   ]
  },
  {
   "cell_type": "code",
   "execution_count": 22,
   "metadata": {},
   "outputs": [
    {
     "ename": "AttributeError",
     "evalue": "module 'matplotlib' has no attribute 'plot'",
     "output_type": "error",
     "traceback": [
      "\u001b[1;31m---------------------------------------------------------------------------\u001b[0m",
      "\u001b[1;31mAttributeError\u001b[0m                            Traceback (most recent call last)",
      "Cell \u001b[1;32mIn [22], line 11\u001b[0m\n\u001b[0;32m      9\u001b[0m     \u001b[39mreturn\u001b[39;00m v,n\n\u001b[0;32m     10\u001b[0m v,n\u001b[39m=\u001b[39mv0()\n\u001b[1;32m---> 11\u001b[0m plt\u001b[39m.\u001b[39;49mplot(n,v)\n",
      "File \u001b[1;32m~\\AppData\\Local\\Packages\\PythonSoftwareFoundation.Python.3.10_qbz5n2kfra8p0\\LocalCache\\local-packages\\Python310\\site-packages\\matplotlib\\_api\\__init__.py:224\u001b[0m, in \u001b[0;36mcaching_module_getattr.<locals>.__getattr__\u001b[1;34m(name)\u001b[0m\n\u001b[0;32m    222\u001b[0m \u001b[39mif\u001b[39;00m name \u001b[39min\u001b[39;00m props:\n\u001b[0;32m    223\u001b[0m     \u001b[39mreturn\u001b[39;00m props[name]\u001b[39m.\u001b[39m\u001b[39m__get__\u001b[39m(instance)\n\u001b[1;32m--> 224\u001b[0m \u001b[39mraise\u001b[39;00m \u001b[39mAttributeError\u001b[39;00m(\n\u001b[0;32m    225\u001b[0m     \u001b[39mf\u001b[39m\u001b[39m\"\u001b[39m\u001b[39mmodule \u001b[39m\u001b[39m{\u001b[39;00m\u001b[39mcls\u001b[39m\u001b[39m.\u001b[39m\u001b[39m__module__\u001b[39m\u001b[39m!r}\u001b[39;00m\u001b[39m has no attribute \u001b[39m\u001b[39m{\u001b[39;00mname\u001b[39m!r}\u001b[39;00m\u001b[39m\"\u001b[39m)\n",
      "\u001b[1;31mAttributeError\u001b[0m: module 'matplotlib' has no attribute 'plot'"
     ]
    }
   ],
   "source": [
    "def u(x):\n",
    "    return 20*abs(math.sin(math.pi*x))\n",
    "def v0():\n",
    "    v,n=[],[]\n",
    "    hx,nx=2,20\n",
    "    for i in range(nx+1):\n",
    "        v.append(u(i*hx/nx))\n",
    "        n.append(i)\n",
    "    return v,n\n",
    "v,n=v0()\n",
    "plt.plot(n,v)\n"
   ]
  }
 ],
 "metadata": {
  "kernelspec": {
   "display_name": "Python 3.10.8 64-bit (microsoft store)",
   "language": "python",
   "name": "python3"
  },
  "language_info": {
   "codemirror_mode": {
    "name": "ipython",
    "version": 3
   },
   "file_extension": ".py",
   "mimetype": "text/x-python",
   "name": "python",
   "nbconvert_exporter": "python",
   "pygments_lexer": "ipython3",
   "version": "3.10.8"
  },
  "orig_nbformat": 4,
  "vscode": {
   "interpreter": {
    "hash": "fb2e028e345a943624c77d3e59534debbcb0e612b40d33fba4878756887cac5d"
   }
  }
 },
 "nbformat": 4,
 "nbformat_minor": 2
}
