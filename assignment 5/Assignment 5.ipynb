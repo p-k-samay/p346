{
 "cells": [
  {
   "cell_type": "markdown",
   "metadata": {},
   "source": [
    "# ASSIGNMENT 5"
   ]
  },
  {
   "cell_type": "code",
   "execution_count": 11,
   "metadata": {},
   "outputs": [],
   "source": [
    "from library import *"
   ]
  },
  {
   "cell_type": "markdown",
   "metadata": {},
   "source": [
    "# 1."
   ]
  },
  {
   "cell_type": "code",
   "execution_count": 20,
   "metadata": {},
   "outputs": [
    {
     "data": {
      "text/plain": [
       "('3.61897889', '3.61988003', '3.62004881')"
      ]
     },
     "execution_count": 20,
     "metadata": {},
     "output_type": "execute_result"
    }
   ],
   "source": [
    "f1=lambda x:(1+1/x)**0.5\n",
    "t1=midpoint(f1,1,4,10)\n",
    "t2=midpoint(f1,1,4,20)\n",
    "t3=midpoint(f1,1,4,30)\n",
    "t1,t2,t3"
   ]
  },
  {
   "cell_type": "code",
   "execution_count": 19,
   "metadata": {},
   "outputs": [
    {
     "data": {
      "text/plain": [
       "('3.58097866', '3.59937850', '3.60601764')"
      ]
     },
     "execution_count": 19,
     "metadata": {},
     "output_type": "execute_result"
    }
   ],
   "source": [
    "f1=lambda x:(1+1/x)**0.5\n",
    "t1=trapezoidal(f1,1,4,10)\n",
    "t2=trapezoidal(f1,1,4,20)\n",
    "t3=trapezoidal(f1,1,4,30)\n",
    "t1,t2,t3"
   ]
  },
  {
   "cell_type": "code",
   "execution_count": 18,
   "metadata": {},
   "outputs": [
    {
     "data": {
      "text/plain": [
       "('3.62018872', '3.62018457', '3.62018434')"
      ]
     },
     "execution_count": 18,
     "metadata": {},
     "output_type": "execute_result"
    }
   ],
   "source": [
    "f1=lambda x:(1+1/x)**0.5\n",
    "t1=simpson(f1,1,4,10)\n",
    "t2=simpson(f1,1,4,20)\n",
    "t3=simpson(f1,1,4,30)\n",
    "t1,t2,t3"
   ]
  },
  {
   "cell_type": "markdown",
   "metadata": {},
   "source": [
    "# 2."
   ]
  },
  {
   "cell_type": "code",
   "execution_count": 16,
   "metadata": {},
   "outputs": [
    {
     "data": {
      "text/plain": [
       "0.5114308917058159"
      ]
     },
     "execution_count": 16,
     "metadata": {},
     "output_type": "execute_result"
    }
   ],
   "source": [
    "f1=lambda x:(np.sin(x))**2\n",
    "monte_carlo(f1,-1,1,15)"
   ]
  },
  {
   "cell_type": "markdown",
   "metadata": {},
   "source": [
    "# 3."
   ]
  },
  {
   "cell_type": "code",
   "execution_count": 17,
   "metadata": {},
   "outputs": [
    {
     "name": "stdout",
     "output_type": "stream",
     "text": [
      "The center of mass of the system is, 1.563666460855629\n"
     ]
    }
   ],
   "source": [
    "\n",
    "f1=lambda x:x*x**2 \n",
    "f2=lambda x:x**2 \n",
    "c1=monte_carlo(f1,0,2,20)\n",
    "c2=monte_carlo(f2,0,2,20)\n",
    "c=c1/c2\n",
    "print(\"The center of mass of the system is,\",c)"
   ]
  }
 ],
 "metadata": {
  "kernelspec": {
   "display_name": "Python 3.10.8 64-bit (microsoft store)",
   "language": "python",
   "name": "python3"
  },
  "language_info": {
   "codemirror_mode": {
    "name": "ipython",
    "version": 3
   },
   "file_extension": ".py",
   "mimetype": "text/x-python",
   "name": "python",
   "nbconvert_exporter": "python",
   "pygments_lexer": "ipython3",
   "version": "3.10.8"
  },
  "orig_nbformat": 4,
  "vscode": {
   "interpreter": {
    "hash": "fb2e028e345a943624c77d3e59534debbcb0e612b40d33fba4878756887cac5d"
   }
  }
 },
 "nbformat": 4,
 "nbformat_minor": 2
}
