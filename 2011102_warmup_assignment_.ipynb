{
  "nbformat": 4,
  "nbformat_minor": 0,
  "metadata": {
    "colab": {
      "name": "2011102 warmup assignment .ipynb",
      "provenance": [],
      "collapsed_sections": []
    },
    "kernelspec": {
      "name": "python3",
      "display_name": "Python 3"
    },
    "language_info": {
      "name": "python"
    }
  },
  "cells": [
    {
      "cell_type": "code",
      "execution_count": 1,
      "metadata": {
        "id": "8Mda3xrxp-aL",
        "colab": {
          "base_uri": "https://localhost:8080/"
        },
        "outputId": "d1baf97b-9085-46ec-caab-94855e67befb"
      },
      "outputs": [
        {
          "output_type": "stream",
          "name": "stdout",
          "text": [
            "Enter the value of N : 23\n",
            "sum of first 23 odd numbers is 529\n",
            "The factorial of  23 is  25852016738884976640000\n"
          ]
        }
      ],
      "source": [
        "#q1\n",
        "#sum of first N numbers\n",
        "N = int(input('Enter the value of N : '))\n",
        "s=0\n",
        "if N < 0:\n",
        " print(\"please enter a positive integer\")\n",
        "else:\n",
        " for n in range (0,2*N+1):\n",
        "  if n%2!=0:\n",
        "   s+=n\n",
        " print(\"sum of first\",N,\"odd numbers is\",s)\n",
        "\n",
        "#factorial of N\n",
        "f=1\n",
        "if N<0:\n",
        "  print(\"Factorial is not defined for negative numbers\")\n",
        "elif N==0:\n",
        "  print(\"Factorial of 0 is 1\")\n",
        "else:\n",
        "  for n in range(1,N+1):\n",
        "    f*=n #multiplication of each next numbers to the result\n",
        "  print(\"The factorial of \" ,N, \"is \" ,f)"
      ]
    },
    {
      "cell_type": "code",
      "source": [
        "#q2\n",
        "#sum of first N terms of given AP\n",
        "N= int(input(\"Enter the value of N for the AP:\"))\n",
        "a=1 #first term \n",
        "d=1.5 #common difference\n",
        "APSUM=0\n",
        "i=0\n",
        "while i in range (0,N):\n",
        "  APSUM=APSUM+a\n",
        "  a+=d\n",
        "  i+=1\n",
        "print(\"The sum of first \",N,\" terms of the AP is \",APSUM)\n",
        "\n",
        "#sum of first N terms of given GP\n",
        "N= int(input(\"Enter the value of N for GP:\"))\n",
        "a=1 #first term \n",
        "r=0.5 #common ratio\n",
        "GPSUM=0\n",
        "i=0\n",
        "while i in range (0,N):\n",
        "  GPSUM=GPSUM+a\n",
        "  a*=r\n",
        "  i+=1\n",
        "print(\"The sum of first \",N,\" terms of the GP is \",GPSUM)\n",
        "\n",
        "#sum of first N terms of given HP\n",
        "N= int(input(\"Enter the value of N for HP:\"))\n",
        "a=1 #first term \n",
        "#here d is as previously defined in AP i.e. d=1.5\n",
        "HPSUM=0 \n",
        "i=0\n",
        "while i in range (0,N):\n",
        "  HPSUM=HPSUM+1/a\n",
        "  a+=d\n",
        "  i+=1\n",
        "print(\"The sum of first \",N,\" terms of the HP is \",HPSUM)"
      ],
      "metadata": {
        "colab": {
          "base_uri": "https://localhost:8080/"
        },
        "id": "NdpT_d0TK12E",
        "outputId": "b58b50e5-3544-496e-c465-5e757762fdfd"
      },
      "execution_count": 2,
      "outputs": [
        {
          "output_type": "stream",
          "name": "stdout",
          "text": [
            "Enter the value of N for the AP:2\n",
            "The sum of first  2  terms of the AP is  3.5\n",
            "Enter the value of N for GP:4\n",
            "The sum of first  4  terms of the GP is  1.875\n",
            "Enter the value of N for HP:7\n",
            "The sum of first  7  terms of the HP is  2.192322383498854\n"
          ]
        }
      ]
    },
    {
      "cell_type": "code",
      "source": [
        "#q3\n",
        "import matplotlib.pyplot as plt\n",
        "x=[]\n",
        "y=[]\n",
        "N=int(input('Enter the number of terms in the series:'))\n",
        "sum=0\n",
        "for n in range(1,N+1):\n",
        "  sum=sum+((-1)**(n+1))/2**n\n",
        "  x.append(n) #points in x\n",
        "  y.append(sum) #corresponding sum in y \n",
        "print(\"The sum of n terms in the given series is approximately {0:.4f}\".format(sum)) #upto 4 decimal places\n",
        "#to plot the graph\n",
        "plt.plot(x,y)\n",
        "plt.xlabel(\"n\")\n",
        "plt.ylabel(\"sum\")\n",
        "plt.show()\n",
        "\n"
      ],
      "metadata": {
        "id": "v3pNqG2nxNc6",
        "colab": {
          "base_uri": "https://localhost:8080/",
          "height": 314
        },
        "outputId": "844f9e0b-062d-4bd9-809b-fa0a82aafd63"
      },
      "execution_count": 3,
      "outputs": [
        {
          "output_type": "stream",
          "name": "stdout",
          "text": [
            "Enter the number of terms in the series:34\n",
            "The sum of n terms in the given series is approximately 0.3333\n"
          ]
        },
        {
          "output_type": "display_data",
          "data": {
            "text/plain": [
              "<Figure size 432x288 with 1 Axes>"
            ],
            "image/png": "[encoded data removed]"
          },
          "metadata": {
            "needs_background": "light"
          }
        }
      ]
    },
    {
      "cell_type": "code",
      "source": [
        "#q4\n",
        "A=[[2,-3,1.4],[2.5,1,-2],[-0.8,0,3.1]]\n",
        "B=[[0,-1,1],[1.5,0.5,-2],[3,0,-2]]\n",
        "C=[[-2],[0.5],[1.5]]\n",
        "D=[[1],[0],[-1]]\n",
        "\n",
        "#calculate AB\n",
        "a=[[0,0,0],[0,0,0],[0,0,0]]\n",
        "def AB():\n",
        "  for i in a:\n",
        "    for j in i:\n",
        "      print(j, end=\"\\t\")\n",
        "    print(\"\\n\")\n",
        "for i in range(len(A)):\n",
        "  for j in range (len(B[0])): \n",
        "    for k in range (len(B)): \n",
        "      a[i][j]= round(a[i][j]+ A[i][k]*B[k][j],1)\n",
        "#here i found some issues. the first element in AB i got the value -0.3000000000000007 which should be -0.3 so I rounded it off to 0.3  \n",
        "print(\"The matrix AB is:\\n\")\n",
        "AB()\n",
        "\n",
        "#calculate BC\n",
        "b=[[0],[0],[0]]\n",
        "def BC():\n",
        "  for i in b:\n",
        "    for j in i:\n",
        "      print(j, end=\"\\t\")\n",
        "    print(\"\\n\")\n",
        "for i in range(len(B)):\n",
        "  for j in range(len(C)):\n",
        "    b[i][0] =b[i][0]+ B[i][j]*C[j][0]\n",
        "print(\"The matrix BC is:\\n\")\n",
        "BC()\n",
        "\n",
        "#calculate D.C\n",
        "C=[-2,0.5,1.5]\n",
        "D=[1,0,-1]\n",
        "c=0\n",
        "for D,C in zip(D,C):\n",
        "  c+=D*C\n",
        "print(\"The dot product D.C is\",c)"
      ],
      "metadata": {
        "id": "R5KjDI4C15cx",
        "colab": {
          "base_uri": "https://localhost:8080/"
        },
        "outputId": "a767387a-2d68-4ec9-e12a-8f35509fffa9"
      },
      "execution_count": 4,
      "outputs": [
        {
          "output_type": "stream",
          "name": "stdout",
          "text": [
            "The matrix AB is:\n",
            "\n",
            "-0.3\t-3.5\t5.2\t\n",
            "\n",
            "-4.5\t-2.0\t4.5\t\n",
            "\n",
            "9.3\t0.8\t-7.0\t\n",
            "\n",
            "The matrix BC is:\n",
            "\n",
            "1.0\t\n",
            "\n",
            "-5.75\t\n",
            "\n",
            "-9.0\t\n",
            "\n",
            "The dot product D.C is -3.5\n"
          ]
        }
      ]
    },
    {
      "cell_type": "code",
      "source": [
        "\n",
        "class mycomplex():\n",
        " def sum(self):\n",
        "   s=c1+c2\n",
        "   print(\"The sum of the given two complex numbers is:\",s)\n",
        " def product(self):\n",
        "   p=c1*c2\n",
        "   print(\"The product of the given two complex numbers is:\",p)\n",
        " def modulus(self):\n",
        "   mc1=((c1.real)**2 + (c1.imag)**2)**0.5\n",
        "   mc2=((c2.real)**2 + (c2.imag)**2)**0.5  \n",
        "   print(\"The modulus of the complex number\",c1,\" is \",mc1,\"\\nThe modulus of the complex number\",c2,\"is\",mc2)\n",
        " def operations(self):\n",
        "   c.sum()\n",
        "   c.product()\n",
        "   c.modulus()\n",
        "c=mycomplex()\n",
        "c1=complex(3,-2)\n",
        "c2=complex(1,2)\n",
        "c.operations()\n",
        "\n"
      ],
      "metadata": {
        "colab": {
          "base_uri": "https://localhost:8080/"
        },
        "id": "hTCWSqz2288b",
        "outputId": "3409fc7f-ce15-4c91-8388-ed13976a76b2"
      },
      "execution_count": 12,
      "outputs": [
        {
          "output_type": "stream",
          "name": "stdout",
          "text": [
            "The sum of the given two complex numbers is: (4+0j)\n",
            "The product of the given two complex numbers is: (7+4j)\n",
            "The modulus of the complex number (3-2j)  is  3.605551275463989 \n",
            "The modulus of the complex number (1+2j) is 2.23606797749979\n"
          ]
        }
      ]
    }
  ]
}