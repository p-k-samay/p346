{
 "cells": [
  {
   "cell_type": "markdown",
   "metadata": {},
   "source": [
    "# Q1"
   ]
  },
  {
   "cell_type": "code",
   "execution_count": 3,
   "metadata": {},
   "outputs": [
    {
     "name": "stdout",
     "output_type": "stream",
     "text": [
      "The area of the ellipse: 6.272\n"
     ]
    }
   ],
   "source": [
    "from library import *\n",
    "import math\n",
    "def areaellipse():\n",
    "    seed=11\n",
    "    n=125\n",
    "    x=lcg(seed,n)\n",
    "    y=lcg(seed,n)\n",
    "    count=0\n",
    "    for i,j in zip(x,y):\n",
    "        if (i**2+j**2)<=1:\n",
    "            count+=1\n",
    "    A=4*count/n #for 4 quadrants\n",
    "    a=2*A\n",
    "    print('The area of the ellipse: '+str(a))\n",
    "areaellipse()"
   ]
  },
  {
   "cell_type": "markdown",
   "metadata": {},
   "source": [
    "# Q2\n"
   ]
  },
  {
   "cell_type": "code",
   "execution_count": 4,
   "metadata": {},
   "outputs": [
    {
     "name": "stdout",
     "output_type": "stream",
     "text": [
      "The value of x in the equation: 4.96511423174643\n",
      "Wein's constant b: 0.002899010330737035\n"
     ]
    }
   ],
   "source": [
    "f1=lambda x:(x-5)*math.exp(x)+5\n",
    "d1=lambda x:(x-4)*math.exp(x)\n",
    "newton_raphson.main(5)"
   ]
  },
  {
   "cell_type": "markdown",
   "metadata": {},
   "source": [
    "# Q3"
   ]
  },
  {
   "cell_type": "code",
   "execution_count": null,
   "metadata": {},
   "outputs": [],
   "source": [
    "def solve():\n",
    "    path='C://Users//pksam//Desktop//Codes//3.csv'\n",
    "    gauss_seidel.main(path)\n",
    "solve()\n",
    "#output file attached"
   ]
  }
 ],
 "metadata": {
  "kernelspec": {
   "display_name": "Python 3.10.8 64-bit (microsoft store)",
   "language": "python",
   "name": "python3"
  },
  "language_info": {
   "codemirror_mode": {
    "name": "ipython",
    "version": 3
   },
   "file_extension": ".py",
   "mimetype": "text/x-python",
   "name": "python",
   "nbconvert_exporter": "python",
   "pygments_lexer": "ipython3",
   "version": "3.10.8"
  },
  "orig_nbformat": 4,
  "vscode": {
   "interpreter": {
    "hash": "fb2e028e345a943624c77d3e59534debbcb0e612b40d33fba4878756887cac5d"
   }
  }
 },
 "nbformat": 4,
 "nbformat_minor": 2
}
