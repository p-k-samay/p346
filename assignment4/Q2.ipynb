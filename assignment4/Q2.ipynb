{
 "cells": [
  {
   "cell_type": "markdown",
   "metadata": {},
   "source": [
    "# Q2."
   ]
  },
  {
   "cell_type": "code",
   "execution_count": 41,
   "metadata": {},
   "outputs": [
    {
     "name": "stdout",
     "output_type": "stream",
     "text": [
      "The root in bisection method\n",
      "The value of root is :  -0.739085\n",
      "The number of iterations, 20\n",
      "The roots in regula falsi method\n",
      "The value of root is :  -0.739085\n",
      "The number of iterations, 4\n",
      "The root in newton rhapson method\n",
      "The value of x is -0.739085\n",
      "The number of iterations, 3\n"
     ]
    },
    {
     "data": {
      "text/plain": [
       "-0.739085133385284"
      ]
     },
     "execution_count": 41,
     "metadata": {},
     "output_type": "execute_result"
    }
   ],
   "source": [
    "def f2(x):\n",
    "    return -x-np.cos(x)\n",
    "def g2(x):\n",
    "    return -1+np.sin(x)\n",
    "    \n",
    "print(\"The root in bisection method\")\n",
    "bisection(f2,-1,0,10**-6)\n",
    "\n",
    "print(\"The roots in regula falsi method\")\n",
    "regula_falsi(f2,-1,0,10**-6)\n",
    "\n",
    "print(\"The root in newton rhapson method\")\n",
    "newton_rhapson(f2,g2,-1,10**-6)"
   ]
  }
 ],
 "metadata": {
  "kernelspec": {
   "display_name": "Python 3.10.8 64-bit (microsoft store)",
   "language": "python",
   "name": "python3"
  },
  "language_info": {
   "codemirror_mode": {
    "name": "ipython",
    "version": 3
   },
   "file_extension": ".py",
   "mimetype": "text/x-python",
   "name": "python",
   "nbconvert_exporter": "python",
   "pygments_lexer": "ipython3",
   "version": "3.10.8"
  },
  "orig_nbformat": 4,
  "vscode": {
   "interpreter": {
    "hash": "fb2e028e345a943624c77d3e59534debbcb0e612b40d33fba4878756887cac5d"
   }
  }
 },
 "nbformat": 4,
 "nbformat_minor": 2
}
