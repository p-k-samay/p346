{
 "cells": [
  {
   "cell_type": "markdown",
   "metadata": {},
   "source": [
    "# Q1"
   ]
  },
  {
   "cell_type": "code",
   "execution_count": 5,
   "metadata": {},
   "outputs": [
    {
     "name": "stdout",
     "output_type": "stream",
     "text": [
      "The value of root is :  1.500000\n",
      "The number of iterations, 0\n",
      "The value of root is :  1.250000\n",
      "The number of iterations, 1\n",
      "The value of root is :  1.375000\n",
      "The number of iterations, 2\n",
      "The value of root is :  1.437500\n",
      "The number of iterations, 3\n",
      "The value of root is :  1.406250\n",
      "The number of iterations, 4\n",
      "The value of root is :  1.390625\n",
      "The number of iterations, 5\n",
      "The value of root is :  1.398438\n",
      "The number of iterations, 6\n",
      "The value of root is :  1.402344\n",
      "The number of iterations, 7\n",
      "The value of root is :  1.400391\n",
      "The number of iterations, 8\n",
      "The value of root is :  1.401367\n",
      "The number of iterations, 9\n",
      "The value of root is :  1.401855\n",
      "The number of iterations, 10\n",
      "The value of root is :  1.402100\n",
      "The number of iterations, 11\n",
      "The value of root is :  1.401978\n",
      "The number of iterations, 12\n",
      "The value of root is :  1.401917\n",
      "The number of iterations, 13\n",
      "The value of root is :  1.401947\n",
      "The number of iterations, 14\n",
      "The value of root is :  1.401932\n",
      "The number of iterations, 15\n",
      "The value of root is :  1.401924\n",
      "The number of iterations, 16\n",
      "The value of root is :  1.401928\n",
      "The number of iterations, 17\n",
      "The value of root is :  1.401930\n",
      "The number of iterations, 18\n",
      "The value of root is :  1.401931\n",
      "The number of iterations, 19\n"
     ]
    },
    {
     "data": {
      "text/plain": [
       "1.401930809020996"
      ]
     },
     "execution_count": 5,
     "metadata": {},
     "output_type": "execute_result"
    }
   ],
   "source": [
    "from library import *\n",
    "def f1(x):\n",
    "    return np.log(x/2)-np.sin(5*x/2)\n",
    "bisection(f1,1,2,10**-6)\n",
    "#here i have changed the library code in order to print output for each iteration"
   ]
  },
  {
   "cell_type": "code",
   "execution_count": 2,
   "metadata": {},
   "outputs": [
    {
     "name": "stdout",
     "output_type": "stream",
     "text": [
      "The value of root is :  1.420075\n",
      "The number of iterations, 0\n",
      "The value of root is :  1.402953\n",
      "The number of iterations, 1\n",
      "The value of root is :  1.401982\n",
      "The number of iterations, 2\n",
      "The value of root is :  1.401933\n",
      "The number of iterations, 3\n",
      "The value of root is :  1.401930\n",
      "The number of iterations, 4\n"
     ]
    },
    {
     "data": {
      "text/plain": [
       "1.4019300668677432"
      ]
     },
     "execution_count": 2,
     "metadata": {},
     "output_type": "execute_result"
    }
   ],
   "source": [
    "regula_falsi(f1,1,2,10**-6)"
   ]
  }
 ],
 "metadata": {
  "kernelspec": {
   "display_name": "Python 3.10.8 64-bit (microsoft store)",
   "language": "python",
   "name": "python3"
  },
  "language_info": {
   "codemirror_mode": {
    "name": "ipython",
    "version": 3
   },
   "file_extension": ".py",
   "mimetype": "text/x-python",
   "name": "python",
   "nbconvert_exporter": "python",
   "pygments_lexer": "ipython3",
   "version": "3.10.8"
  },
  "orig_nbformat": 4,
  "vscode": {
   "interpreter": {
    "hash": "fb2e028e345a943624c77d3e59534debbcb0e612b40d33fba4878756887cac5d"
   }
  }
 },
 "nbformat": 4,
 "nbformat_minor": 2
}
