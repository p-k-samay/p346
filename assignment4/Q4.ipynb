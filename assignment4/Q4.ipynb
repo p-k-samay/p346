{
 "cells": [
  {
   "cell_type": "markdown",
   "metadata": {},
   "source": [
    "# Q4"
   ]
  },
  {
   "cell_type": "code",
   "execution_count": 4,
   "metadata": {},
   "outputs": [
    {
     "name": "stdout",
     "output_type": "stream",
     "text": [
      "The values of a are [0.5746586674196097, 4.7258614421419285, -11.128217777643231, 7.66867762290941]\n"
     ]
    }
   ],
   "source": [
    "from library import *\n",
    "x, y = np.loadtxt('A4.txt', unpack=True, usecols=[0,1])\n",
    "A,X=polynomial(x,y,4)\n",
    "coeff=Lu_decomposition(A,X,4)\n",
    "print(\"The values of a are\",coeff)\n",
    "Fn=[]\n",
    "for i in range(len(x)):\n",
    "    fun=coeff[0]+coeff[1]*x[i]+coeff[2]*(x[i])**2+coeff[3]*(x[i])**3\n",
    "    Fn.append(fun)"
   ]
  }
 ],
 "metadata": {
  "kernelspec": {
   "display_name": "Python 3.10.8 64-bit (microsoft store)",
   "language": "python",
   "name": "python3"
  },
  "language_info": {
   "codemirror_mode": {
    "name": "ipython",
    "version": 3
   },
   "file_extension": ".py",
   "mimetype": "text/x-python",
   "name": "python",
   "nbconvert_exporter": "python",
   "pygments_lexer": "ipython3",
   "version": "3.10.8"
  },
  "orig_nbformat": 4,
  "vscode": {
   "interpreter": {
    "hash": "fb2e028e345a943624c77d3e59534debbcb0e612b40d33fba4878756887cac5d"
   }
  }
 },
 "nbformat": 4,
 "nbformat_minor": 2
}
