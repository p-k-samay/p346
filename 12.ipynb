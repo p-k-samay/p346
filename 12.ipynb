{
 "cells": [
  {
   "cell_type": "code",
   "execution_count": 1,
   "metadata": {},
   "outputs": [
    {
     "ename": "FileNotFoundError",
     "evalue": "[Errno 2] No such file or directory: 'C:\\\\Users\\\\pksam\\\\Desktop\\\\Codes\\\\fitmatrix.csv'",
     "output_type": "error",
     "traceback": [
      "\u001b[1;31m---------------------------------------------------------------------------\u001b[0m",
      "\u001b[1;31mFileNotFoundError\u001b[0m                         Traceback (most recent call last)",
      "Cell \u001b[1;32mIn [1], line 46\u001b[0m\n\u001b[0;32m     42\u001b[0m   B\u001b[39m=\u001b[39mpolyfit(A,n)\n\u001b[0;32m     43\u001b[0m   C\u001b[39m=\u001b[39mgj\u001b[39m.\u001b[39mmain(B)\n\u001b[1;32m---> 46\u001b[0m main()\n",
      "Cell \u001b[1;32mIn [1], line 40\u001b[0m, in \u001b[0;36mmain\u001b[1;34m()\u001b[0m\n\u001b[0;32m     38\u001b[0m \u001b[39mdef\u001b[39;00m \u001b[39mmain\u001b[39m():\n\u001b[0;32m     39\u001b[0m   p\u001b[39m=\u001b[39m \u001b[39m'\u001b[39m\u001b[39mC:\u001b[39m\u001b[39m\\\\\u001b[39;00m\u001b[39mUsers\u001b[39m\u001b[39m\\\\\u001b[39;00m\u001b[39mpksam\u001b[39m\u001b[39m\\\\\u001b[39;00m\u001b[39mDesktop\u001b[39m\u001b[39m\\\\\u001b[39;00m\u001b[39mCodes\u001b[39m\u001b[39m\\\\\u001b[39;00m\u001b[39mfitmatrix.csv\u001b[39m\u001b[39m'\u001b[39m\n\u001b[1;32m---> 40\u001b[0m   A \u001b[39m=\u001b[39m \u001b[39minput\u001b[39;49m(p)\n\u001b[0;32m     41\u001b[0m   n\u001b[39m=\u001b[39m\u001b[39m3\u001b[39m\n\u001b[0;32m     42\u001b[0m   B\u001b[39m=\u001b[39mpolyfit(A,n)\n",
      "Cell \u001b[1;32mIn [1], line 26\u001b[0m, in \u001b[0;36minput\u001b[1;34m(path)\u001b[0m\n\u001b[0;32m     24\u001b[0m j\u001b[39m=\u001b[39m\u001b[39m0\u001b[39m\n\u001b[0;32m     25\u001b[0m M\u001b[39m=\u001b[39m[]\n\u001b[1;32m---> 26\u001b[0m \u001b[39mwith\u001b[39;00m \u001b[39mopen\u001b[39;49m(path) \u001b[39mas\u001b[39;00m x:\n\u001b[0;32m     27\u001b[0m   cr\u001b[39m=\u001b[39mcsv\u001b[39m.\u001b[39mreader(x)\n\u001b[0;32m     28\u001b[0m   \u001b[39mnext\u001b[39m(cr)\n",
      "\u001b[1;31mFileNotFoundError\u001b[0m: [Errno 2] No such file or directory: 'C:\\\\Users\\\\pksam\\\\Desktop\\\\Codes\\\\fitmatrix.csv'"
     ]
    }
   ],
   "source": [
    "import my_lib.gj as gj\n",
    "import numpy as np\n",
    "import csv\n",
    "def polyfit(M,p):\n",
    "    n=len(M)\n",
    "    N=[]\n",
    "    for i in range (0,p):\n",
    "        r=[]\n",
    "        for j in range (0,p):\n",
    "            sum2=0.0\n",
    "            for k in range(0,n):\n",
    "                sum2+= (M[k,0]**(i+j))\n",
    "            r.append(sum2)\n",
    "        sum1=0.0\n",
    "        for l in range (0,n):\n",
    "            sum1+=((M[l,0]**i)*M[l,1])5\n",
    "        r.append(sum1)\n",
    "        N.append(r)\n",
    "    N=np.matrix(N)\n",
    "    return N\n",
    "\n",
    "def input(path):O\n",
    "  M=[]\n",
    "  with open(path) as x:\n",
    "    cr=csv.reader(x)\n",
    "    next(cr)\n",
    "    for line in cr:\n",
    "      row=[]\n",
    "      for n in line:\n",
    "        row.append(float(n))\n",
    "      M.append(row)\n",
    "  return (np.matrix(M))\n",
    "\n",
    "\n",
    "\n",
    "def main():\n",
    "  p= 'C:\\\\Users\\\\pksam\\\\Desktop\\\\Codes\\\\fitmatrix.csv'\n",
    "  A = input(p)\n",
    "  n=3\n",
    "  B=polyfit(A,n)\n",
    "  C=gj.main(B)\n",
    "\n",
    "  \n",
    "main()"
   ]
  },
  {
   "cell_type": "code",
   "execution_count": 2,
   "metadata": {},
   "outputs": [
    {
     "name": "stdout",
     "output_type": "stream",
     "text": [
      "22026.465794806718\n"
     ]
    }
   ],
   "source": [
    "import math\n",
    "print(math.exp(10))"
   ]
  }
 ],
 "metadata": {
  "kernelspec": {
   "display_name": "Python 3.10.8 64-bit (microsoft store)",
   "language": "python",
   "name": "python3"
  },
  "language_info": {
   "codemirror_mode": {
    "name": "ipython",
    "version": 3
   },
   "file_extension": ".py",
   "mimetype": "text/x-python",
   "name": "python",
   "nbconvert_exporter": "python",
   "pygments_lexer": "ipython3",
   "version": "3.10.8"
  },
  "orig_nbformat": 4,
  "vscode": {
   "interpreter": {
    "hash": "fb2e028e345a943624c77d3e59534debbcb0e612b40d33fba4878756887cac5d"
   }
  }
 },
 "nbformat": 4,
 "nbformat_minor": 2
}
