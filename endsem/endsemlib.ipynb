{
 "cells": [
  {
   "cell_type": "code",
   "execution_count": null,
   "metadata": {},
   "outputs": [],
   "source": [
    "def Lu_decomposition(A,b,n):\n",
    "    L = [[0 for x in range(n)]\n",
    "             for y in range(n)]\n",
    "    U = [[0 for x in range(n)]\n",
    "             for y in range(n)]\n",
    "    for j in range(0,n):\n",
    "        for i in range(0,n):\n",
    "            sum = 0\n",
    "            for k in range(0,i):\n",
    "                sum+=L[i][k]*U[k][j]\n",
    "            U[i][j]=A[i][j]-sum\n",
    "        for i in range(0,n):\n",
    "            sum=0\n",
    "            for k in range(0,j):\n",
    "                sum+=L[i][k]*U[k][j]\n",
    "            L[i][j]=(1/U[j][j])*(A[i][j]-sum)\n",
    "    for i in range(0,n):\n",
    "        sum=0\n",
    "        for j in range(0,i):\n",
    "            sum+=L[i][j]*b[j]\n",
    "        b[i]=b[i]-sum\n",
    "    for i in range(n-1,-1,-1):\n",
    "        sum=0\n",
    "        for j in range(i+1,n):\n",
    "            sum+=U[i][j]*b[j]\n",
    "        b[i]=(b[i]-sum)/U[i][i]\n",
    "    print (b)\n",
    "def newton_rhapson(f,g,x,e):\n",
    "    i=0\n",
    "    while abs(f(x))>e:\n",
    "        x=x-f(x)/g(x)\n",
    "    print(x)\n",
    "def simpson(f,a,b,n):\n",
    "    h=(b-a)/n\n",
    "    x=a \n",
    "    sum=0\n",
    "    for i in range(n):\n",
    "        sum+=(f(x)+4*f(x+h/2)+f(x+h))*h/6\n",
    "        x+=h\n",
    "    return '%.8f'%sum"
   ]
  }
 ],
 "metadata": {
  "kernelspec": {
   "display_name": "Python 3.10.8 64-bit (microsoft store)",
   "language": "python",
   "name": "python3"
  },
  "language_info": {
   "name": "python",
   "version": "3.10.8"
  },
  "orig_nbformat": 4,
  "vscode": {
   "interpreter": {
    "hash": "fb2e028e345a943624c77d3e59534debbcb0e612b40d33fba4878756887cac5d"
   }
  }
 },
 "nbformat": 4,
 "nbformat_minor": 2
}
