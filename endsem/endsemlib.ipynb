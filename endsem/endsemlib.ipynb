{
 "cells": [
  {
   "cell_type": "markdown",
   "metadata": {},
   "source": [
    "# Q1"
   ]
  },
  {
   "cell_type": "code",
   "execution_count": null,
   "metadata": {},
   "outputs": [],
   "source": [
    "def Lu_decomposition(A,b,n):\n",
    "    L = [[0 for x in range(n)]\n",
    "             for y in range(n)]\n",
    "    U = [[0 for x in range(n)]\n",
    "             for y in range(n)]\n",
    "    for j in range(0,n):\n",
    "        for i in range(0,n):\n",
    "            sum = 0\n",
    "            for k in range(0,i):\n",
    "                sum+=L[i][k]*U[k][j]\n",
    "            U[i][j]=A[i][j]-sum\n",
    "        for i in range(0,n):\n",
    "            sum=0\n",
    "            for k in range(0,j):\n",
    "                sum+=L[i][k]*U[k][j]\n",
    "            L[i][j]=(1/U[j][j])*(A[i][j]-sum)\n",
    "    for i in range(0,n):\n",
    "        sum=0\n",
    "        for j in range(0,i):\n",
    "            sum+=L[i][j]*b[j]\n",
    "        b[i]=b[i]-sum\n",
    "    for i in range(n-1,-1,-1):\n",
    "        sum=0\n",
    "        for j in range(i+1,n):\n",
    "            sum+=U[i][j]*b[j]\n",
    "        b[i]=(b[i]-sum)/U[i][i]\n",
    "    return b\n",
    "def transpose(L,n):\n",
    "    U = [[L[j][i] for j in range(len(L))] \n",
    "            for i in range(len(L[0]))]\n",
    "    return U"
   ]
  },
  {
   "cell_type": "markdown",
   "metadata": {},
   "source": [
    "# Q2"
   ]
  },
  {
   "cell_type": "code",
   "execution_count": null,
   "metadata": {},
   "outputs": [],
   "source": [
    "def lcg(x):\n",
    "    a=1103515245\n",
    "    c=12345\n",
    "    m=32768\n",
    "    x=(a*x+c)%m\n",
    "    return x\n",
    "def Box(nL,nR,T,dT):\n",
    "    Nmax=nL+nR\n",
    "    NL=[nL]\n",
    "    NR=[nR]\n",
    "    NT=[0]\n",
    "    r = lcg(T)\n",
    "    t=0\n",
    "    while t <= int(T) and nL >=0 and nL <=Nmax and  nR <=Nmax and nR >=0:\n",
    "        r = lcg(r)\n",
    "        probtoR = NL[len(NL)-1]/Nmax\n",
    "        if r <= p:\n",
    "            nL = nL -1\n",
    "            nR = nR +1\n",
    "            t+=dT\n",
    "            NL.append(nL)\n",
    "            NR.append(nR)\n",
    "            NT.append(t)\n",
    "            r= lcg(r)\n",
    "        \n",
    "        p = 1 - (NL[len(NL)-1]/Nmax)\n",
    "        r = lcg(r)\n",
    "        if r <= p:\n",
    "            nR = nR -1\n",
    "            nL = nL +1\n",
    "            t+=dT\n",
    "            NL.append(nL)\n",
    "            NR.append(nR)\n",
    "            NT.append(t)\n",
    "            r= lcg(r)\n",
    "        \n",
    "    return NL,NR,NT"
   ]
  },
  {
   "cell_type": "markdown",
   "metadata": {},
   "source": [
    "# Q3"
   ]
  },
  {
   "cell_type": "code",
   "execution_count": null,
   "metadata": {},
   "outputs": [],
   "source": [
    "def newton_rhapson(f,d,x):\n",
    "    ct=1\n",
    "    a=f(x)/d(x)\n",
    "    while abs(a)> 10**-6:\n",
    "        a=f(x)/d(x)\n",
    "        x=x-a\n",
    "        ct+=1\n",
    "    return x"
   ]
  },
  {
   "cell_type": "markdown",
   "metadata": {},
   "source": [
    "# Q4"
   ]
  },
  {
   "cell_type": "code",
   "execution_count": null,
   "metadata": {},
   "outputs": [],
   "source": [
    "def simpson(f,a,b,n):\n",
    "    h=(b-a)/n\n",
    "    x=a \n",
    "    sum=0\n",
    "    for i in range(n):\n",
    "        sum+=(f(x)+4*f(x+h/2)+f(x+h))*h/6\n",
    "        x+=h\n",
    "    return sum"
   ]
  },
  {
   "cell_type": "markdown",
   "metadata": {},
   "source": [
    "# Q5"
   ]
  },
  {
   "cell_type": "code",
   "execution_count": null,
   "metadata": {},
   "outputs": [],
   "source": [
    "def rks(dxdt,dvdt,x,v,t,tn):\n",
    "    dt=0.01\n",
    "    V=[]\n",
    "    T=[]\n",
    "    X=[]\n",
    "    while t<tn:\n",
    "        k1x= dt*dxdt(x,v,t)\n",
    "        k1v=dt*dvdt(x,v,t)\n",
    "        k2x=dt*dxdt(x+k1x/2,(v+k1v/2),(t+dt/2))\n",
    "        k2v=dt*dvdt((x+k1x/2),v+k1v/2,(t+dt/2))\n",
    "        k3x=dt*dxdt(x+k2x/2,(v+k2v/2),(t+dt/2))\n",
    "        k3v=dt*dvdt((x+k2x/2),v+k2v/2,(t+dt/2))\n",
    "        k4x=dt*dxdt(x+k3x,(v+k3v),(t+dt))\n",
    "        k4v=dt*dvdt((x+k3x),v+k3v,(t+dt))\n",
    "        kx=(k1x+2*k2x+2*k3x+k4x)/6\n",
    "        kv=(k1v+2*k2v+2*k3v+k4v)/6\n",
    "        x=x+kx\n",
    "        X.append(x)\n",
    "        v=v+kv\n",
    "        V.append(v)\n",
    "        t+=dt\n",
    "        T.append(t)\n",
    "    plt.plot(X,V)\n",
    "    plt.xlabel(\"Height\")\n",
    "    plt.ylabel(\"Velocity\")"
   ]
  },
  {
   "cell_type": "markdown",
   "metadata": {},
   "source": [
    "# Q6"
   ]
  },
  {
   "cell_type": "code",
   "execution_count": null,
   "metadata": {},
   "outputs": [],
   "source": [
    "def cross(a,b):\n",
    "    c = []\n",
    "    if len(a[0])==len(b):\n",
    "        for i in range(0,len(a)):\n",
    "            temp=[]\n",
    "            for j in range(0,len(b[0])):\n",
    "                s = 0\n",
    "                for k in range(0,len(a[0])):\n",
    "                    s += a[i][k]*b[k][j]\n",
    "                temp.append(s)\n",
    "            c.append(temp)\n",
    "    else:\n",
    "        print('Not possible.')\n",
    "\n",
    "    return c\n",
    "\n",
    "def transpose(l):\n",
    "    r = len(l)\n",
    "    c = len(l[0])\n",
    "    t = []\n",
    "    for j in range(c):\n",
    "        row = []\n",
    "        for i in range(r):\n",
    "            row.append(l[i][j])\n",
    "        t.append(row)\n",
    "    return t\n",
    "\n",
    "def Eigen(A, k_max, tol, guess):\n",
    "    na = len(A)\n",
    "    b_k=[]\n",
    "    lambda1=0\n",
    "    if str(guess)=='random':\n",
    "        for i in range(0,na):\n",
    "            R=[]\n",
    "            r=lcg(i)\n",
    "            R.append(r)\n",
    "            b_k.append(R)\n",
    "    else:\n",
    "        b_k = guess\n",
    "    \n",
    "    e_new=1\n",
    "    e_old=0\n",
    "    i=0\n",
    "    while (abs(e_new - e_old) >= tol) and (i in range(0,k_max)):\n",
    "        e_old=lambda1\n",
    "        b_k = cross(A,b_k)\n",
    "        b_k_n = 0\n",
    "        for j in range(0,len(b_k)):\n",
    "            b_k_n += (b_k[j][0])**2\n",
    "        \n",
    "        for j in range(0,len(b_k)):\n",
    "            b_k[j][0] = b_k[j][0] / math.sqrt(b_k_n)\n",
    "        \n",
    "        i=i+1\n",
    "        \n",
    "        x1=transpose(b_k)\n",
    "        x2=cross(x1,A)\n",
    "        x3=cross(x2,b_k)\n",
    "        v=transpose(b_k)\n",
    "        v1=cross(v,b_k)\n",
    "        lambda1=x3[0][0]/v1[0][0]\n",
    "        e_new=lambda1\n",
    "    \n",
    "    print(' Eigenvalue:',lambda1,'\\n Eignvector:',b_k,'\\n iterations:', i)\n",
    "    return b_k,lambda1"
   ]
  },
  {
   "cell_type": "markdown",
   "metadata": {},
   "source": [
    "# Q7"
   ]
  },
  {
   "cell_type": "code",
   "execution_count": null,
   "metadata": {},
   "outputs": [],
   "source": [
    "def polynomial(x,y,a):\n",
    "    n=len(x)\n",
    "    A=[[0 for i in range(a)]\n",
    "          for j in range(a)]\n",
    "    X=[0 for i in range(a)]\n",
    "    for i in range(a):\n",
    "        for j in range(a):\n",
    "            if i==0 and j==0:\n",
    "                A[0][0]=n\n",
    "            else:\n",
    "                sum=0\n",
    "                for k in range(n):\n",
    "                    sum+=x[k]**(i+j)\n",
    "                A[i][j]=sum\n",
    "    for i in range(a):\n",
    "        sum=0\n",
    "        for j in range(n):\n",
    "            sum+=(x[j]**i)*y[j]\n",
    "        X[i]=sum\n",
    "    return A,X\n",
    "def Lu_decomposition(A,b,n):\n",
    "    L = [[0 for x in range(n)]\n",
    "             for y in range(n)]\n",
    "    U = [[0 for x in range(n)]\n",
    "             for y in range(n)]\n",
    "    for j in range(0,n):\n",
    "        for i in range(0,n):\n",
    "            sum = 0\n",
    "            for k in range(0,i):\n",
    "                sum+=L[i][k]*U[k][j]\n",
    "            U[i][j]=A[i][j]-sum\n",
    "        for i in range(0,n):\n",
    "            sum=0\n",
    "            for k in range(0,j):\n",
    "                sum+=L[i][k]*U[k][j]\n",
    "            L[i][j]=(1/U[j][j])*(A[i][j]-sum)\n",
    "    for i in range(0,n):\n",
    "        sum=0\n",
    "        for j in range(0,i):\n",
    "            sum+=L[i][j]*b[j]\n",
    "        b[i]=b[i]-sum\n",
    "    for i in range(n-1,-1,-1):\n",
    "        sum=0\n",
    "        for j in range(i+1,n):\n",
    "            sum+=U[i][j]*b[j]\n",
    "        b[i]=(b[i]-sum)/U[i][i]\n",
    "    print (\"%.3f\", b)"
   ]
  }
 ],
 "metadata": {
  "kernelspec": {
   "display_name": "Python 3.10.8 64-bit (microsoft store)",
   "language": "python",
   "name": "python3"
  },
  "language_info": {
   "name": "python",
   "version": "3.10.8"
  },
  "orig_nbformat": 4,
  "vscode": {
   "interpreter": {
    "hash": "fb2e028e345a943624c77d3e59534debbcb0e612b40d33fba4878756887cac5d"
   }
  }
 },
 "nbformat": 4,
 "nbformat_minor": 2
}
