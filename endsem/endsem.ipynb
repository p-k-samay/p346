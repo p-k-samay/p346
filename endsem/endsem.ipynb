{
 "cells": [
  {
   "cell_type": "markdown",
   "metadata": {},
   "source": [
    "# ENDSEM"
   ]
  },
  {
   "cell_type": "markdown",
   "metadata": {},
   "source": [
    "# Q1"
   ]
  },
  {
   "cell_type": "code",
   "execution_count": 44,
   "metadata": {},
   "outputs": [
    {
     "name": "stdout",
     "output_type": "stream",
     "text": [
      "The inverse of A is \n",
      "[-0.7079491478066469, 2.5314333612741033, 2.4311958647666976, 0.9665758591785422, -3.9022771723945273]\n",
      "[-0.19343159169227922, 0.3101424979044428, 0.27946586569805365, 0.05771514389494277, -0.2941347676259665]\n",
      "[0.02168901927912789, 0.3654652137468567, 0.2861483654652138, 0.05055532271584246, -0.28992036881810584]\n",
      "[0.27341203315637536, -0.1299245599329425, 0.13161264785321755, -0.1410135512713049, 0.44885675700847577]\n",
      "[0.7815264971593527, -2.875104777870918, -2.6789373195492248, -0.7011385861972624, 4.233840923907985]\n"
     ]
    }
   ],
   "source": [
    "def Lu_decomposition(A,b,n):\n",
    "    L = [[0 for x in range(n)]\n",
    "             for y in range(n)]\n",
    "    U = [[0 for x in range(n)]\n",
    "             for y in range(n)]\n",
    "    for j in range(0,n):\n",
    "        for i in range(0,n):\n",
    "            sum = 0\n",
    "            for k in range(0,i):\n",
    "                sum+=L[i][k]*U[k][j]\n",
    "            U[i][j]=A[i][j]-sum\n",
    "        for i in range(0,n):\n",
    "            sum=0\n",
    "            for k in range(0,j):\n",
    "                sum+=L[i][k]*U[k][j]\n",
    "            L[i][j]=(1/U[j][j])*(A[i][j]-sum)\n",
    "    for i in range(0,n):\n",
    "        sum=0\n",
    "        for j in range(0,i):\n",
    "            sum+=L[i][j]*b[j]\n",
    "        b[i]=b[i]-sum\n",
    "    for i in range(n-1,-1,-1):\n",
    "        sum=0\n",
    "        for j in range(i+1,n):\n",
    "            sum+=U[i][j]*b[j]\n",
    "        b[i]=(b[i]-sum)/U[i][i]\n",
    "    print(b)\n",
    "A=[[0.2,-5,3,0.4,0],\n",
    "   [-0.5,1,7,-2,0.3],\n",
    "   [0.6,2,-4,3,0.1],\n",
    "   [3,0.8,2,-0.4,3],\n",
    "   [0.5,3,2,0.4,1]]\n",
    "def transpose(L,n):\n",
    "    U = [[L[j][i] for j in range(len(L))] \n",
    "            for i in range(len(L[0]))]\n",
    "    return U\n",
    "A0=transpose(A,5)\n",
    "B1=[1,0,0,0,0]\n",
    "B2=[0,1,0,0,0]\n",
    "B3=[0,0,1,0,0]\n",
    "B4=[0,0,0,1,0]\n",
    "B5=[0,0,0,0,1]\n",
    "print(\"The inverse of A is \" )\n",
    "Lu_decomposition(A0,B1,5)\n",
    "Lu_decomposition(A0,B2,5)\n",
    "Lu_decomposition(A0,B3,5)\n",
    "Lu_decomposition(A0,B4,5)\n",
    "Lu_decomposition(A0,B5,5)\n"
   ]
  },
  {
   "cell_type": "markdown",
   "metadata": {},
   "source": [
    "# Q2"
   ]
  },
  {
   "cell_type": "code",
   "execution_count": null,
   "metadata": {},
   "outputs": [],
   "source": []
  },
  {
   "cell_type": "markdown",
   "metadata": {},
   "source": [
    "# Q3"
   ]
  },
  {
   "cell_type": "code",
   "execution_count": null,
   "metadata": {},
   "outputs": [],
   "source": []
  },
  {
   "cell_type": "markdown",
   "metadata": {},
   "source": [
    "# Q4"
   ]
  },
  {
   "cell_type": "code",
   "execution_count": 6,
   "metadata": {},
   "outputs": [
    {
     "name": "stdout",
     "output_type": "stream",
     "text": [
      "The time period of oscillation is 2.08732002\n"
     ]
    }
   ],
   "source": [
    "def simpson(f,a,b,n):\n",
    "    h=(b-a)/n\n",
    "    x=a \n",
    "    sum=0\n",
    "    for i in range(n):\n",
    "        sum+=(f(x)+4*f(x+h/2)+f(x+h))*h/6\n",
    "        x+=h\n",
    "    return '%.8f'%sum\n",
    "a=math.sin(math.pi/8)\n",
    "f4=lambda x:4*(math.sqrt(1/9.8))*(1/math.sqrt(1-(a*math.sin(x))**2))\n",
    "print(\"The time period of oscillation is\" , simpson(f4,0,math.pi/2,10))"
   ]
  },
  {
   "cell_type": "markdown",
   "metadata": {},
   "source": [
    "# Q5"
   ]
  },
  {
   "cell_type": "code",
   "execution_count": null,
   "metadata": {},
   "outputs": [],
   "source": []
  },
  {
   "cell_type": "markdown",
   "metadata": {},
   "source": [
    "# Q6"
   ]
  },
  {
   "cell_type": "code",
   "execution_count": 15,
   "metadata": {},
   "outputs": [
    {
     "name": "stdout",
     "output_type": "stream",
     "text": [
      "The dominant eigen value corresponding to the given matrix: 7.999979972896654\n",
      "The normalized eigenvector corresponding to the dominant eigenvalue:\n",
      " [[-0.1980291   0.69310334  0.69310334  0.        ]]\n"
     ]
    }
   ],
   "source": [
    "def eigen(A,x0,xk):\n",
    "    k=500\n",
    "    y=np.matrix(x0)\n",
    "    for i in range (0,k):\n",
    "        sum=0\n",
    "        for j in range (0,3):\n",
    "            sum+=y[0,j]*x0[0,j]\n",
    "        xky=(sum)\n",
    "        for l in range (0,3):\n",
    "            sum=0\n",
    "            for j in range (0,3):\n",
    "                sum+=A[l,j]*x0[0,j]\n",
    "            xk[0,l]=(sum)\n",
    "        x0=np.matrix(xk)\n",
    "        sum=0\n",
    "        for j in range (0,3):\n",
    "            sum+=y[0,j]*xk[0,j]\n",
    "        xk1y=(sum)\n",
    "        if i==0:\n",
    "            lambda0=(sum)\n",
    "        if i>0 :\n",
    "            if xky==0:\n",
    "                break\n",
    "            lambdak=xk1y/xky\n",
    "            if abs(lambdak-lambda0)<10**-3:\n",
    "                break\n",
    "            lambda0=lambdak\n",
    "    return lambdak,xk\n",
    "A=np.matrix([[1,-2,0,5],[0,7,1,5],[0,4,4,0],[0,0,0,2]])\n",
    "x0=np.matrix([1.0,1.0,1.0,1.0])\n",
    "xk=np.matrix([0.0,0.0,0.0,0.0])\n",
    "lambda1,xk=(eigen(A,x0,xk))\n",
    "print(\"The dominant eigen value corresponding to the given matrix:\",lambda1)\n",
    "sum=0\n",
    "for i in range (0,4):\n",
    "    sum+=(xk[0,i]**2)\n",
    "sum1=math.sqrt(sum)\n",
    "for i in range (0,4):\n",
    "    xk[0,i]=(xk[0,i]/sum1)\n",
    "print(\"The normalized eigenvector corresponding to the dominant eigenvalue:\\n\",xk)"
   ]
  }
 ],
 "metadata": {
  "kernelspec": {
   "display_name": "Python 3.10.8 64-bit (microsoft store)",
   "language": "python",
   "name": "python3"
  },
  "language_info": {
   "codemirror_mode": {
    "name": "ipython",
    "version": 3
   },
   "file_extension": ".py",
   "mimetype": "text/x-python",
   "name": "python",
   "nbconvert_exporter": "python",
   "pygments_lexer": "ipython3",
   "version": "3.10.8"
  },
  "orig_nbformat": 4,
  "vscode": {
   "interpreter": {
    "hash": "fb2e028e345a943624c77d3e59534debbcb0e612b40d33fba4878756887cac5d"
   }
  }
 },
 "nbformat": 4,
 "nbformat_minor": 2
}
