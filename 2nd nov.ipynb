{
 "cells": [
  {
   "cell_type": "code",
   "execution_count": 13,
   "metadata": {},
   "outputs": [
    {
     "ename": "NameError",
     "evalue": "name 'v0' is not defined",
     "output_type": "error",
     "traceback": [
      "\u001b[1;31m---------------------------------------------------------------------------\u001b[0m",
      "\u001b[1;31mNameError\u001b[0m                                 Traceback (most recent call last)",
      "Cell \u001b[1;32mIn [13], line 36\u001b[0m\n\u001b[0;32m     33\u001b[0m         \u001b[39mreturn\u001b[39;00m x0,v0\n\u001b[0;32m     34\u001b[0m     plt\u001b[39m.\u001b[39mscatter (v0,x0)\n\u001b[1;32m---> 36\u001b[0m rungeKutta(x0, v0, x, h)\n",
      "\u001b[1;31mNameError\u001b[0m: name 'v0' is not defined"
     ]
    }
   ],
   "source": [
    "import matplotlib as plt \n",
    "def dvdx(v,x,a,b):\n",
    "    return ((-a*v-b*x))\n",
    "\n",
    "def dydx(x, v ,a,b):\n",
    "    return (-a*v-b*x)\n",
    " \n",
    "def rungeKutta(dfdx,x0, t0, x, h):\n",
    "   \n",
    "    n = (int)((x - x0)/h)\n",
    "\n",
    "    v = v0\n",
    "    x0=[]\n",
    "    t0=[]\n",
    "    for i in range(1, n + 1):\n",
    "        k1x = h * dydx(x0, v)\n",
    "        \n",
    "\n",
    "        k2x = h * dydx(x0 + 0.5 * h, v + 0.5 * k1x)\n",
    "        \n",
    "\n",
    "        k3x = h * dydx(x0 + 0.5 * h, v + 0.5 * k2x)\n",
    "    \n",
    "\n",
    "        k4x = h * dydx(x0 + h, v + k3x)\n",
    "\n",
    "\n",
    "        x = x + (1.0 / 6.0)*(k1x + 2 * k2x + 2 * k3x + k4x)\n",
    "\n",
    "def rungeKutta(dfdx,x0, t0, x, h):\n",
    "   \n",
    "    n = (int)((x - x0)/h)\n",
    "\n",
    "    v = v0\n",
    "    x0=[]\n",
    "    t0=[]\n",
    "    for i in range(1, n + 1):\n",
    "\n",
    "        k1v = h * dvdx(x0, v)\n",
    "\n",
    "        k2v = h * dvdx(x0 + 0.5 * h, v + 0.5 * k1v)\n",
    "\n",
    "        k3v = h * dvdx(x0 + 0.5 * h, v + 0.5 * k2v)\n",
    "\n",
    "        k4v = h * dvdx(x0 + h, v + k3v)\n",
    "\n",
    "        x = x + (1.0 / 6.0)*(k1x + 2 * k2x + 2 * k3x + k4x)\n",
    "        v = v + (1.0 / 6.0)*(k1v + 2 * k2v + 2 * k3v + k4v)        \n",
    "        x0.append(x)\n",
    "        v0.append(v)\n",
    "        return x0,v0\n",
    "    plt.scatter (v0,x0)\n",
    "\n",
    "rungeKutta(x0, v0, x, h)  \n",
    "\n",
    "\n",
    "#x0 = 0\n",
    "#v = 1\n",
    "#x = 2\n",
    "#h = 0.2\n",
    "#print ('The value of v at x is:', rungeKutta(x0, v, x, h))\n"
   ]
  },
  {
   "cell_type": "code",
   "execution_count": 28,
   "metadata": {},
   "outputs": [
    {
     "ename": "TypeError",
     "evalue": "rungeKutta() missing 3 required positional arguments: 't0', 'x', and 'h'",
     "output_type": "error",
     "traceback": [
      "\u001b[1;31m---------------------------------------------------------------------------\u001b[0m",
      "\u001b[1;31mTypeError\u001b[0m                                 Traceback (most recent call last)",
      "Cell \u001b[1;32mIn [28], line 18\u001b[0m\n\u001b[0;32m     16\u001b[0m         y[i \u001b[39m+\u001b[39m \u001b[39m1\u001b[39m, :] \u001b[39m=\u001b[39m y[i, :] \u001b[39m+\u001b[39m (h \u001b[39m/\u001b[39m \u001b[39m6\u001b[39m) \u001b[39m*\u001b[39m (k1 \u001b[39m+\u001b[39m \u001b[39m2\u001b[39m \u001b[39m*\u001b[39m k2 \u001b[39m+\u001b[39m \u001b[39m2\u001b[39m \u001b[39m*\u001b[39m k3 \u001b[39m+\u001b[39m k4)\n\u001b[0;32m     17\u001b[0m     \u001b[39mreturn\u001b[39;00m y\n\u001b[1;32m---> 18\u001b[0m rungeKutta(\u001b[39m4\u001b[39;49m,\u001b[39m0\u001b[39;49m)\n\u001b[0;32m     19\u001b[0m \u001b[39mdef\u001b[39;00m \u001b[39mf\u001b[39m(y):\n\u001b[0;32m     20\u001b[0m     \u001b[39mreturn\u001b[39;00m \u001b[39m2\u001b[39m\u001b[39m*\u001b[39mmath\u001b[39m.\u001b[39msqrt(\u001b[39m2\u001b[39m)\u001b[39m-\u001b[39m\u001b[39m2\u001b[39m\n",
      "\u001b[1;31mTypeError\u001b[0m: rungeKutta() missing 3 required positional arguments: 't0', 'x', and 'h'"
     ]
    }
   ],
   "source": [
    "import math\n",
    "import numpy as np\n",
    "import matplotlib as plt \n",
    "\n",
    "def RungeKutta(f, y0, x):\n",
    "    f=y\n",
    "    y = np.zeros((len(x), len(y0)))\n",
    "    y[0, :] = np.array(y0)\n",
    "    h = x[1] - x[0]\n",
    "    for i in range(0, len(x) - 1):\n",
    "        # Many slight changes below\n",
    "        k1 = np.array(f(y[i, :], x[i]))\n",
    "        k2 = np.array(f(y[i, :] + h * k1 / 2, x[i] + h / 2))\n",
    "        k3 = np.array(f(y[i, :] + h * k2 / 2, x[i] + h / 2))\n",
    "        k4 = np.array(f(y[i, :] + h * k3, x[i] + h))\n",
    "        y[i + 1, :] = y[i, :] + (h / 6) * (k1 + 2 * k2 + 2 * k3 + k4)\n",
    "    return y\n",
    "rungeKutta(4,0)\n",
    "def f(y):\n",
    "    return 2*math.sqrt(2)-2\n",
    "\n",
    "rungeKutta (y,3,4)\n",
    "plt.scatter(y,x)\n",
    "\n"
   ]
  },
  {
   "cell_type": "code",
   "execution_count": null,
   "metadata": {},
   "outputs": [],
   "source": [
    "def shoot(x0,xn,y0,func1,func2,z,h):\n",
    "    \n",
    "    X,Y,Z=CODE1(x0,z,y0,func1,func2,h,xn)\n",
    "    return Y[-1]\n",
    "\n",
    "\n",
    "def bound(x0,xn,y0,yn,func1,func2,z1,z2,h,e):\n",
    "   \n",
    "   R=0\n",
    "   k1=shoot(x0,xn,y0,func1,func2,z1,h)\n",
    "   k2=shoot(x0,xn,y0,func1,func2,z2,h)\n",
    "   t=z1+(z2-z1)*(yn-k1)/(k2-k1)\n",
    "   j=shoot(x0,xn,y0,func1,func2,t,h)\n",
    "   \n",
    "   while abs(j-yn)>e:\n",
    "     \n",
    "     R=R+1\n",
    "     if j<yn:z1=t\n",
    "     else: z2=t\n",
    "    \n",
    "     k1=shoot(x0,xn,y0,func1,func2,z1,h)\n",
    "     k2=shoot(x0,xn,y0,func1,func2,z2,h)\n",
    "     t=z1+(z2-z1)*(yn-k1)/(k2-k1)\n",
    "     j=shoot(x0,xn,y0,func1,func2,t,h)\n",
    "    \n",
    "   print(\"z(0) =\",t,\", Iterations:\",R)\n",
    "def fx(y,z,t):\n",
    "    return y\n",
    "\n",
    "def fy(y,z,t):\n",
    "    return 2*y\n",
    "\n",
    "def fl(x):\n",
    "    return 0.157*np.exp(1.414*x)+ 1.043*np.exp(-1.414*x)"
   ]
  }
 ],
 "metadata": {
  "kernelspec": {
   "display_name": "Python 3.10.8 64-bit (microsoft store)",
   "language": "python",
   "name": "python3"
  },
  "language_info": {
   "codemirror_mode": {
    "name": "ipython",
    "version": 3
   },
   "file_extension": ".py",
   "mimetype": "text/x-python",
   "name": "python",
   "nbconvert_exporter": "python",
   "pygments_lexer": "ipython3",
   "version": "3.10.8"
  },
  "orig_nbformat": 4,
  "vscode": {
   "interpreter": {
    "hash": "fb2e028e345a943624c77d3e59534debbcb0e612b40d33fba4878756887cac5d"
   }
  }
 },
 "nbformat": 4,
 "nbformat_minor": 2
}
